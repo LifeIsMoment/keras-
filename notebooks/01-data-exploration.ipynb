{
 "cells": [
  {
   "cell_type": "code",
   "execution_count": null,
   "id": "86342c81",
   "metadata": {
    "vscode": {
     "languageId": "plaintext"
    }
   },
   "outputs": [],
   "source": [
    "# 환경설정\n",
    "import sys\n",
    "sys.path.append('../src')\n",
    "\n",
    "import numpy as np\n",
    "import pandas as pd\n",
    "import matplotlib.pyplot as plt\n",
    "import seaborn as sns\n",
    "from pathlib import Path\n",
    "import yaml\n",
    "from PIL import Image\n",
    "import os"
   ]
  },
  {
   "cell_type": "code",
   "execution_count": null,
   "id": "51fdd1ae",
   "metadata": {
    "vscode": {
     "languageId": "plaintext"
    }
   },
   "outputs": [],
   "source": [
    "# 설정 로드\n",
    "with open('../configs/config.yaml', 'r') as f:\n",
    "    config = yaml.safe_load(f)\n",
    "\n",
    "print(\"✅ 환경 설정 완료!\")"
   ]
  },
  {
   "cell_type": "code",
   "execution_count": null,
   "id": "17d6ebbc",
   "metadata": {
    "vscode": {
     "languageId": "plaintext"
    }
   },
   "outputs": [],
   "source": [
    "# 데이터 탐색\n",
    "data_path = Path('../data/raw')"
   ]
  },
  {
   "cell_type": "code",
   "execution_count": null,
   "id": "832a2245",
   "metadata": {
    "vscode": {
     "languageId": "plaintext"
    }
   },
   "outputs": [],
   "source": [
    "# 데이터셋 구조 확인\n",
    "print(\"📁 데이터셋 구조:\")\n",
    "for split in ['train', 'validation', 'test']:\n",
    "    split_path = data_path / split\n",
    "    if split_path.exists():\n",
    "        print(f\"\\n{split}:\")\n",
    "        for class_dir in split_path.iterdir():\n",
    "            if class_dir.is_dir():\n",
    "                count = len(list(class_dir.glob('*.png')))\n",
    "                print(f\"  {class_dir.name}: {count} images\")"
   ]
  },
  {
   "cell_type": "code",
   "execution_count": null,
   "id": "0344de82",
   "metadata": {
    "vscode": {
     "languageId": "plaintext"
    }
   },
   "outputs": [],
   "source": [
    "# 샘플 이미지 시각화\n",
    "def plot_sample_images(data_path, split='train', num_samples=3):\n",
    "    \"\"\"각 클래스별 샘플 이미지 표시\"\"\"\n",
    "    split_path = data_path / split\n",
    "    classes = [d.name for d in split_path.iterdir() if d.is_dir()]\n",
    "    \n",
    "    fig, axes = plt.subplots(len(classes), num_samples, figsize=(15, 2*len(classes)))\n",
    "    \n",
    "    for i, class_name in enumerate(classes):\n",
    "        class_path = split_path / class_name\n",
    "        images = list(class_path.glob('*.png'))[:num_samples]\n",
    "        \n",
    "        for j, img_path in enumerate(images):\n",
    "            img = Image.open(img_path)\n",
    "            axes[i, j].imshow(img, cmap='gray')\n",
    "            axes[i, j].set_title(f'{class_name}')\n",
    "            axes[i, j].axis('off')\n",
    "    \n",
    "    plt.tight_layout()\n",
    "    plt.show()"
   ]
  },
  {
   "cell_type": "code",
   "execution_count": null,
   "id": "c939854d",
   "metadata": {
    "vscode": {
     "languageId": "plaintext"
    }
   },
   "outputs": [],
   "source": [
    "# 샘플 이미지 표시\n",
    "plot_sample_images(data_path)"
   ]
  },
  {
   "cell_type": "code",
   "execution_count": null,
   "id": "03f9fedc",
   "metadata": {
    "vscode": {
     "languageId": "plaintext"
    }
   },
   "outputs": [],
   "source": [
    "# 클래스 분포 확인\n",
    "def analyze_class_distribution(data_path):\n",
    "    \"\"\"클래스별 데이터 분포 분석\"\"\"\n",
    "    distribution = {}\n",
    "    \n",
    "    for split in ['train', 'validation', 'test']:\n",
    "        split_path = data_path / split\n",
    "        if split_path.exists():\n",
    "            distribution[split] = {}\n",
    "            for class_dir in split_path.iterdir():\n",
    "                if class_dir.is_dir():\n",
    "                    count = len(list(class_dir.glob('*.png')))\n",
    "                    distribution[split][class_dir.name] = count"
   ]
  },
  {
   "cell_type": "code",
   "execution_count": null,
   "id": "9c9e2579",
   "metadata": {
    "vscode": {
     "languageId": "plaintext"
    }
   },
   "outputs": [],
   "source": [
    " # 시각화\n",
    "    df = pd.DataFrame(distribution).fillna(0)\n",
    "    \n",
    "    fig, axes = plt.subplots(1, 2, figsize=(15, 6))"
   ]
  },
  {
   "cell_type": "code",
   "execution_count": null,
   "id": "aa17b92d",
   "metadata": {
    "vscode": {
     "languageId": "plaintext"
    }
   },
   "outputs": [],
   "source": [
    "# 클래스별 분포\n",
    "    df.sum(axis=1).plot(kind='bar', ax=axes[0], title='Total Samples per Class')\n",
    "    axes[0].tick_params(axis='x', rotation=45)\n",
    "    "
   ]
  },
  {
   "cell_type": "code",
   "execution_count": null,
   "id": "21668743",
   "metadata": {
    "vscode": {
     "languageId": "plaintext"
    }
   },
   "outputs": [],
   "source": [
    " # 분할별 분포\n",
    "    df.T.plot(kind='bar', ax=axes[1], title='Samples per Split')\n",
    "    axes[1].tick_params(axis='x', rotation=0)\n",
    "    axes[1].legend(bbox_to_anchor=(1.05, 1), loc='upper left')\n",
    "    \n",
    "    plt.tight_layout()\n",
    "    plt.show()\n",
    "    \n",
    "    return df"
   ]
  },
  {
   "cell_type": "code",
   "execution_count": null,
   "id": "50e674b9",
   "metadata": {
    "vscode": {
     "languageId": "plaintext"
    }
   },
   "outputs": [],
   "source": [
    "# 분포 분석 실행\n",
    "distribution_df = analyze_class_distribution(data_path)\n",
    "print(\"\\n📊 클래스별 데이터 분포:\")\n",
    "print(distribution_df)"
   ]
  }
 ],
 "metadata": {
  "language_info": {
   "name": "python"
  }
 },
 "nbformat": 4,
 "nbformat_minor": 5
}
